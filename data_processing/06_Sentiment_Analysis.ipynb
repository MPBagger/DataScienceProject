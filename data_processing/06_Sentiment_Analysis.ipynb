{
 "cells": [
  {
   "cell_type": "markdown",
   "id": "2237a7bb",
   "metadata": {},
   "source": [
    "# Sentiment Analysis\n",
    "\n",
    "Sentiment analysis is the process of identifying and extracting subjective information from text data, which can include opinions, attitudes, emotions, and other similar aspects of the writer's experience. The goal of sentiment analysis is to determine the overall sentiment of a piece of text, whether it is positive, negative, or neutral, and to identify the specific aspects of the text that contribute to that sentiment.\n",
    "\n",
    "There are several ways to perform sentiment analysis, some of which include:\n",
    "\n",
    "- Rule-based approach: This involves the use of a set of pre-defined rules to identify and classify sentiment in text. For example, a rule-based system might identify the presence of certain words or phrases that are indicative of positive or negative sentiment, and use those to assign a sentiment score to the text.\n",
    "\n",
    "- Machine learning approach: This involves training a machine learning algorithm on a set of labeled data, where each piece of text is associated with a sentiment label (positive, negative, or neutral). The algorithm learns to identify patterns in the data that are indicative of each sentiment label and can then be used to classify new, unlabeled text data.\n",
    "\n",
    "- Hybrid approach: This combines the rule-based and machine learning approaches, using a set of pre-defined rules to identify sentiment in text and then using a machine learning algorithm to refine and improve the sentiment analysis.\n",
    "\n",
    "- Lexicon-based approach: This approach involves the use of sentiment lexicons or dictionaries, which are pre-built lists of words and phrases that are associated with positive or negative sentiment. The sentiment of a given text can then be determined by calculating the number and polarity of sentiment words present in the text.\n",
    "\n",
    "- Deep learning approach: This involves the use of neural networks to learn and classify sentiment in text. Deep learning models can process large amounts of text data and identify complex patterns that may be difficult to identify using other methods.\n",
    "\n",
    "Overall, sentiment analysis can be performed using a variety of methods, each with its own strengths and weaknesses. The choice of approach will depend on the specific needs of the application and the resources available for implementation."
   ]
  },
  {
   "cell_type": "markdown",
   "id": "a05bb74b",
   "metadata": {},
   "source": [
    "Python provides several libraries for performing sentiment analysis. Some popular libraries and tools for sentiment analysis in Python include:\n",
    "\n",
    "- TextBlob: TextBlob is a Python library that provides simple API for common natural language processing (NLP) tasks such as sentiment analysis, part-of-speech tagging, and noun phrase extraction.\n",
    "\n",
    "- NLTK: The Natural Language Toolkit (NLTK) is a widely used Python library for NLP. It provides various tools and methods for text processing, including sentiment analysis.\n",
    "\n",
    "- VaderSentiment: VaderSentiment is a Python library that is specifically designed for sentiment analysis of social media text. It is based on a rule-based approach and can handle emoticons and slang language.\n",
    "\n",
    "- Scikit-learn: Scikit-learn is a machine learning library for Python that can be used for various NLP tasks including sentiment analysis. It provides various algorithms for text classification such as Naive Bayes, Support Vector Machines, and Logistic Regression.\n",
    "\n",
    "- Hugging Face: Hugging Face built on top of PyTorch and provides pre-trained models for e.g. sentiment analysis, such as BERT (Bidirectional Encoder Representations from Transformers), RoBERTa (Robustly Optimized BERT), and DistilBERT, among others. These models can be fine-tuned on specific datasets to improve their performance for sentiment analysis on specific domains or languages.\n",
    "\n",
    "To perform sentiment analysis using these libraries, you will typically need to first preprocess your text data, such as tokenization, stop word removal, and stemming. Then, you can use the sentiment analysis functions or methods provided by the library of your choice to obtain a sentiment score or label for your text data.\n",
    "\n",
    "For example, using TextBlob, you can perform sentiment analysis on a sentence as follows:"
   ]
  },
  {
   "cell_type": "code",
   "execution_count": 1,
   "id": "a9ddba96",
   "metadata": {},
   "outputs": [
    {
     "name": "stdout",
     "output_type": "stream",
     "text": [
      "0.5\n"
     ]
    }
   ],
   "source": [
    "from textblob import TextBlob\n",
    "\n",
    "text = \"I love pizza\"\n",
    "blob = TextBlob(text)\n",
    "sentiment_score = blob.sentiment.polarity\n",
    "print(sentiment_score)"
   ]
  },
  {
   "cell_type": "markdown",
   "id": "530ca682",
   "metadata": {},
   "source": [
    "This code will output the sentiment score of the given sentence as a floating-point value between -1 (negative) and 1 (positive). In this case, the sentiment score will be a positive value, indicating a positive sentiment."
   ]
  },
  {
   "cell_type": "markdown",
   "id": "1cd4440e",
   "metadata": {},
   "source": [
    "Hugging Face is a popular open-source library for natural language processing (NLP) tasks that provides easy-to-use interfaces to pre-trained transformer models, such as BERT and RoBERTa. These pre-trained models can be fine-tuned on specific NLP tasks, such as sentiment analysis, with just a few lines of code.\n",
    "\n",
    "A pipeline transformer is a simple and convenient way to perform a wide range of NLP tasks, including sentiment analysis, using pre-trained transformer models. A pipeline transformer allows you to perform these tasks without the need to fine-tune a model or write complex code."
   ]
  },
  {
   "cell_type": "markdown",
   "id": "c20d3ae4",
   "metadata": {},
   "source": [
    "`pip install -q transformers`"
   ]
  },
  {
   "cell_type": "code",
   "execution_count": 3,
   "id": "ce01cd21",
   "metadata": {},
   "outputs": [
    {
     "name": "stderr",
     "output_type": "stream",
     "text": [
      "No model was supplied, defaulted to distilbert-base-uncased-finetuned-sst-2-english and revision af0f99b (https://huggingface.co/distilbert-base-uncased-finetuned-sst-2-english).\n",
      "Using a pipeline without specifying a model name and revision in production is not recommended.\n"
     ]
    },
    {
     "data": {
      "text/plain": [
       "[{'label': 'POSITIVE', 'score': 0.9998656511306763},\n",
       " {'label': 'NEGATIVE', 'score': 0.9991129040718079}]"
      ]
     },
     "execution_count": 3,
     "metadata": {},
     "output_type": "execute_result"
    }
   ],
   "source": [
    "from transformers import pipeline\n",
    "sentiment_pipeline = pipeline(\"sentiment-analysis\")\n",
    "data = [\"I love you\", \"I hate you\"]\n",
    "sentiment_pipeline(data)"
   ]
  },
  {
   "cell_type": "markdown",
   "id": "74a6257f",
   "metadata": {},
   "source": [
    "Let's download some data. \n",
    "\n",
    "The `tweets.csv` contains tweets from Hillary Clinton and Donald Trump from the 2016 presidential election."
   ]
  },
  {
   "cell_type": "code",
   "execution_count": 8,
   "id": "cecde17c",
   "metadata": {},
   "outputs": [],
   "source": [
    "import pandas as pd\n",
    "df = pd.read_csv('data/tweets.csv')"
   ]
  },
  {
   "cell_type": "code",
   "execution_count": 15,
   "id": "12f83fcf",
   "metadata": {},
   "outputs": [
    {
     "name": "stdout",
     "output_type": "stream",
     "text": [
      "<class 'pandas.core.frame.DataFrame'>\n",
      "RangeIndex: 6444 entries, 0 to 6443\n",
      "Data columns (total 29 columns):\n",
      " #   Column                   Non-Null Count  Dtype  \n",
      "---  ------                   --------------  -----  \n",
      " 0   Unnamed: 0               6444 non-null   int64  \n",
      " 1   id                       6444 non-null   float64\n",
      " 2   handle                   6444 non-null   object \n",
      " 3   text                     6444 non-null   object \n",
      " 4   is_retweet               6444 non-null   bool   \n",
      " 5   original_author          722 non-null    object \n",
      " 6   time                     6444 non-null   object \n",
      " 7   in_reply_to_screen_name  208 non-null    object \n",
      " 8   in_reply_to_status_id    202 non-null    float64\n",
      " 9   in_reply_to_user_id      208 non-null    float64\n",
      " 10  is_quote_status          6444 non-null   bool   \n",
      " 11  lang                     6444 non-null   object \n",
      " 12  retweet_count            6444 non-null   int64  \n",
      " 13  favorite_count           6444 non-null   int64  \n",
      " 14  longitude                12 non-null     float64\n",
      " 15  latitude                 12 non-null     float64\n",
      " 16  place_id                 204 non-null    object \n",
      " 17  place_full_name          204 non-null    object \n",
      " 18  place_name               204 non-null    object \n",
      " 19  place_type               204 non-null    object \n",
      " 20  place_country_code       204 non-null    object \n",
      " 21  place_country            204 non-null    object \n",
      " 22  place_contained_within   204 non-null    object \n",
      " 23  place_attributes         204 non-null    object \n",
      " 24  place_bounding_box       204 non-null    object \n",
      " 25  source_url               6444 non-null   object \n",
      " 26  truncated                6444 non-null   bool   \n",
      " 27  entities                 6444 non-null   object \n",
      " 28  extended_entities        1348 non-null   object \n",
      "dtypes: bool(3), float64(5), int64(3), object(18)\n",
      "memory usage: 1.3+ MB\n"
     ]
    }
   ],
   "source": [
    "df.info()"
   ]
  },
  {
   "cell_type": "markdown",
   "id": "7fbe9dae",
   "metadata": {},
   "source": [
    "The transformer models can be quite heavy, and we will therefore only run it on a random sample of 100 tweets."
   ]
  },
  {
   "cell_type": "code",
   "execution_count": 10,
   "id": "3a19d6ab",
   "metadata": {},
   "outputs": [],
   "source": [
    "df_sample = df.sample(100, ignore_index=True)"
   ]
  },
  {
   "cell_type": "code",
   "execution_count": 12,
   "id": "2d3a7681",
   "metadata": {},
   "outputs": [
    {
     "data": {
      "text/html": [
       "<div>\n",
       "<style scoped>\n",
       "    .dataframe tbody tr th:only-of-type {\n",
       "        vertical-align: middle;\n",
       "    }\n",
       "\n",
       "    .dataframe tbody tr th {\n",
       "        vertical-align: top;\n",
       "    }\n",
       "\n",
       "    .dataframe thead th {\n",
       "        text-align: right;\n",
       "    }\n",
       "</style>\n",
       "<table border=\"1\" class=\"dataframe\">\n",
       "  <thead>\n",
       "    <tr style=\"text-align: right;\">\n",
       "      <th></th>\n",
       "      <th>Unnamed: 0</th>\n",
       "      <th>id</th>\n",
       "      <th>handle</th>\n",
       "      <th>text</th>\n",
       "      <th>is_retweet</th>\n",
       "      <th>original_author</th>\n",
       "      <th>time</th>\n",
       "      <th>in_reply_to_screen_name</th>\n",
       "      <th>in_reply_to_status_id</th>\n",
       "      <th>in_reply_to_user_id</th>\n",
       "      <th>...</th>\n",
       "      <th>place_type</th>\n",
       "      <th>place_country_code</th>\n",
       "      <th>place_country</th>\n",
       "      <th>place_contained_within</th>\n",
       "      <th>place_attributes</th>\n",
       "      <th>place_bounding_box</th>\n",
       "      <th>source_url</th>\n",
       "      <th>truncated</th>\n",
       "      <th>entities</th>\n",
       "      <th>extended_entities</th>\n",
       "    </tr>\n",
       "  </thead>\n",
       "  <tbody>\n",
       "    <tr>\n",
       "      <th>0</th>\n",
       "      <td>3176</td>\n",
       "      <td>7.471575e+17</td>\n",
       "      <td>HillaryClinton</td>\n",
       "      <td>.@HillaryClinton is a champion for LGBT equali...</td>\n",
       "      <td>True</td>\n",
       "      <td>jessetyler</td>\n",
       "      <td>2016-06-26T19:59:59</td>\n",
       "      <td>NaN</td>\n",
       "      <td>NaN</td>\n",
       "      <td>NaN</td>\n",
       "      <td>...</td>\n",
       "      <td>NaN</td>\n",
       "      <td>NaN</td>\n",
       "      <td>NaN</td>\n",
       "      <td>NaN</td>\n",
       "      <td>NaN</td>\n",
       "      <td>NaN</td>\n",
       "      <td>https://about.twitter.com/products/tweetdeck</td>\n",
       "      <td>False</td>\n",
       "      <td>{'user_mentions': [{'id_str': '17350250', 'nam...</td>\n",
       "      <td>NaN</td>\n",
       "    </tr>\n",
       "    <tr>\n",
       "      <th>1</th>\n",
       "      <td>4505</td>\n",
       "      <td>7.276378e+17</td>\n",
       "      <td>HillaryClinton</td>\n",
       "      <td>Our teachers deserve more than just a pat on t...</td>\n",
       "      <td>False</td>\n",
       "      <td>NaN</td>\n",
       "      <td>2016-05-03T23:15:54</td>\n",
       "      <td>NaN</td>\n",
       "      <td>NaN</td>\n",
       "      <td>NaN</td>\n",
       "      <td>...</td>\n",
       "      <td>NaN</td>\n",
       "      <td>NaN</td>\n",
       "      <td>NaN</td>\n",
       "      <td>NaN</td>\n",
       "      <td>NaN</td>\n",
       "      <td>NaN</td>\n",
       "      <td>https://about.twitter.com/products/tweetdeck</td>\n",
       "      <td>False</td>\n",
       "      <td>{'media': [{'display_url': 'pic.twitter.com/0s...</td>\n",
       "      <td>{'media': [{'display_url': 'pic.twitter.com/0s...</td>\n",
       "    </tr>\n",
       "    <tr>\n",
       "      <th>2</th>\n",
       "      <td>4038</td>\n",
       "      <td>7.348127e+17</td>\n",
       "      <td>HillaryClinton</td>\n",
       "      <td>\"The lesson of our history, through good times...</td>\n",
       "      <td>False</td>\n",
       "      <td>NaN</td>\n",
       "      <td>2016-05-23T18:26:08</td>\n",
       "      <td>NaN</td>\n",
       "      <td>NaN</td>\n",
       "      <td>NaN</td>\n",
       "      <td>...</td>\n",
       "      <td>NaN</td>\n",
       "      <td>NaN</td>\n",
       "      <td>NaN</td>\n",
       "      <td>NaN</td>\n",
       "      <td>NaN</td>\n",
       "      <td>NaN</td>\n",
       "      <td>https://about.twitter.com/products/tweetdeck</td>\n",
       "      <td>False</td>\n",
       "      <td>{'media': [{'display_url': 'pic.twitter.com/Cc...</td>\n",
       "      <td>{'media': [{'display_url': 'pic.twitter.com/Cc...</td>\n",
       "    </tr>\n",
       "    <tr>\n",
       "      <th>3</th>\n",
       "      <td>4016</td>\n",
       "      <td>7.351810e+17</td>\n",
       "      <td>HillaryClinton</td>\n",
       "      <td>How cruel do you have to be to actually root f...</td>\n",
       "      <td>False</td>\n",
       "      <td>NaN</td>\n",
       "      <td>2016-05-24T18:49:32</td>\n",
       "      <td>HillaryClinton</td>\n",
       "      <td>7.351790e+17</td>\n",
       "      <td>1.339836e+09</td>\n",
       "      <td>...</td>\n",
       "      <td>NaN</td>\n",
       "      <td>NaN</td>\n",
       "      <td>NaN</td>\n",
       "      <td>NaN</td>\n",
       "      <td>NaN</td>\n",
       "      <td>NaN</td>\n",
       "      <td>https://about.twitter.com/products/tweetdeck</td>\n",
       "      <td>False</td>\n",
       "      <td>{'user_mentions': [], 'symbols': [], 'urls': [...</td>\n",
       "      <td>NaN</td>\n",
       "    </tr>\n",
       "    <tr>\n",
       "      <th>4</th>\n",
       "      <td>1377</td>\n",
       "      <td>7.651640e+17</td>\n",
       "      <td>HillaryClinton</td>\n",
       "      <td>Trump says, \"I know more about ISIS than the g...</td>\n",
       "      <td>False</td>\n",
       "      <td>NaN</td>\n",
       "      <td>2016-08-15T12:31:18</td>\n",
       "      <td>NaN</td>\n",
       "      <td>NaN</td>\n",
       "      <td>NaN</td>\n",
       "      <td>...</td>\n",
       "      <td>NaN</td>\n",
       "      <td>NaN</td>\n",
       "      <td>NaN</td>\n",
       "      <td>NaN</td>\n",
       "      <td>NaN</td>\n",
       "      <td>NaN</td>\n",
       "      <td>http://twitter.com</td>\n",
       "      <td>False</td>\n",
       "      <td>{'user_mentions': [], 'symbols': [], 'urls': [...</td>\n",
       "      <td>NaN</td>\n",
       "    </tr>\n",
       "  </tbody>\n",
       "</table>\n",
       "<p>5 rows × 29 columns</p>\n",
       "</div>"
      ],
      "text/plain": [
       "   Unnamed: 0            id          handle  \\\n",
       "0        3176  7.471575e+17  HillaryClinton   \n",
       "1        4505  7.276378e+17  HillaryClinton   \n",
       "2        4038  7.348127e+17  HillaryClinton   \n",
       "3        4016  7.351810e+17  HillaryClinton   \n",
       "4        1377  7.651640e+17  HillaryClinton   \n",
       "\n",
       "                                                text  is_retweet  \\\n",
       "0  .@HillaryClinton is a champion for LGBT equali...        True   \n",
       "1  Our teachers deserve more than just a pat on t...       False   \n",
       "2  \"The lesson of our history, through good times...       False   \n",
       "3  How cruel do you have to be to actually root f...       False   \n",
       "4  Trump says, \"I know more about ISIS than the g...       False   \n",
       "\n",
       "  original_author                 time in_reply_to_screen_name  \\\n",
       "0      jessetyler  2016-06-26T19:59:59                     NaN   \n",
       "1             NaN  2016-05-03T23:15:54                     NaN   \n",
       "2             NaN  2016-05-23T18:26:08                     NaN   \n",
       "3             NaN  2016-05-24T18:49:32          HillaryClinton   \n",
       "4             NaN  2016-08-15T12:31:18                     NaN   \n",
       "\n",
       "   in_reply_to_status_id  in_reply_to_user_id  ...  place_type  \\\n",
       "0                    NaN                  NaN  ...         NaN   \n",
       "1                    NaN                  NaN  ...         NaN   \n",
       "2                    NaN                  NaN  ...         NaN   \n",
       "3           7.351790e+17         1.339836e+09  ...         NaN   \n",
       "4                    NaN                  NaN  ...         NaN   \n",
       "\n",
       "  place_country_code  place_country  place_contained_within  place_attributes  \\\n",
       "0                NaN            NaN                     NaN               NaN   \n",
       "1                NaN            NaN                     NaN               NaN   \n",
       "2                NaN            NaN                     NaN               NaN   \n",
       "3                NaN            NaN                     NaN               NaN   \n",
       "4                NaN            NaN                     NaN               NaN   \n",
       "\n",
       "   place_bounding_box                                    source_url truncated  \\\n",
       "0                 NaN  https://about.twitter.com/products/tweetdeck     False   \n",
       "1                 NaN  https://about.twitter.com/products/tweetdeck     False   \n",
       "2                 NaN  https://about.twitter.com/products/tweetdeck     False   \n",
       "3                 NaN  https://about.twitter.com/products/tweetdeck     False   \n",
       "4                 NaN                            http://twitter.com     False   \n",
       "\n",
       "                                            entities  \\\n",
       "0  {'user_mentions': [{'id_str': '17350250', 'nam...   \n",
       "1  {'media': [{'display_url': 'pic.twitter.com/0s...   \n",
       "2  {'media': [{'display_url': 'pic.twitter.com/Cc...   \n",
       "3  {'user_mentions': [], 'symbols': [], 'urls': [...   \n",
       "4  {'user_mentions': [], 'symbols': [], 'urls': [...   \n",
       "\n",
       "                                   extended_entities  \n",
       "0                                                NaN  \n",
       "1  {'media': [{'display_url': 'pic.twitter.com/0s...  \n",
       "2  {'media': [{'display_url': 'pic.twitter.com/Cc...  \n",
       "3                                                NaN  \n",
       "4                                                NaN  \n",
       "\n",
       "[5 rows x 29 columns]"
      ]
     },
     "execution_count": 12,
     "metadata": {},
     "output_type": "execute_result"
    }
   ],
   "source": [
    "df_sample.head()"
   ]
  },
  {
   "cell_type": "markdown",
   "id": "e8cecc74",
   "metadata": {},
   "source": [
    "We'll use our transformer to perform sentiment analysis on the tweets."
   ]
  },
  {
   "cell_type": "code",
   "execution_count": 13,
   "id": "348b1170",
   "metadata": {},
   "outputs": [],
   "source": [
    "sent = pd.DataFrame(sentiment_pipeline(list(df_sample.text)))"
   ]
  },
  {
   "cell_type": "code",
   "execution_count": 16,
   "id": "0162f5c0",
   "metadata": {},
   "outputs": [
    {
     "data": {
      "text/html": [
       "<div>\n",
       "<style scoped>\n",
       "    .dataframe tbody tr th:only-of-type {\n",
       "        vertical-align: middle;\n",
       "    }\n",
       "\n",
       "    .dataframe tbody tr th {\n",
       "        vertical-align: top;\n",
       "    }\n",
       "\n",
       "    .dataframe thead th {\n",
       "        text-align: right;\n",
       "    }\n",
       "</style>\n",
       "<table border=\"1\" class=\"dataframe\">\n",
       "  <thead>\n",
       "    <tr style=\"text-align: right;\">\n",
       "      <th></th>\n",
       "      <th>label</th>\n",
       "      <th>score</th>\n",
       "    </tr>\n",
       "  </thead>\n",
       "  <tbody>\n",
       "    <tr>\n",
       "      <th>0</th>\n",
       "      <td>NEGATIVE</td>\n",
       "      <td>0.660723</td>\n",
       "    </tr>\n",
       "    <tr>\n",
       "      <th>1</th>\n",
       "      <td>NEGATIVE</td>\n",
       "      <td>0.989819</td>\n",
       "    </tr>\n",
       "    <tr>\n",
       "      <th>2</th>\n",
       "      <td>POSITIVE</td>\n",
       "      <td>0.999174</td>\n",
       "    </tr>\n",
       "    <tr>\n",
       "      <th>3</th>\n",
       "      <td>NEGATIVE</td>\n",
       "      <td>0.999402</td>\n",
       "    </tr>\n",
       "    <tr>\n",
       "      <th>4</th>\n",
       "      <td>NEGATIVE</td>\n",
       "      <td>0.994164</td>\n",
       "    </tr>\n",
       "  </tbody>\n",
       "</table>\n",
       "</div>"
      ],
      "text/plain": [
       "      label     score\n",
       "0  NEGATIVE  0.660723\n",
       "1  NEGATIVE  0.989819\n",
       "2  POSITIVE  0.999174\n",
       "3  NEGATIVE  0.999402\n",
       "4  NEGATIVE  0.994164"
      ]
     },
     "execution_count": 16,
     "metadata": {},
     "output_type": "execute_result"
    }
   ],
   "source": [
    "sent.head()"
   ]
  },
  {
   "cell_type": "markdown",
   "id": "159373da",
   "metadata": {},
   "source": [
    "We then merge the data"
   ]
  },
  {
   "cell_type": "code",
   "execution_count": 17,
   "id": "a5ccd42e",
   "metadata": {},
   "outputs": [],
   "source": [
    "final = pd.concat([df_sample, sent], axis=1)"
   ]
  },
  {
   "cell_type": "code",
   "execution_count": 18,
   "id": "df963252",
   "metadata": {},
   "outputs": [
    {
     "data": {
      "text/html": [
       "<div>\n",
       "<style scoped>\n",
       "    .dataframe tbody tr th:only-of-type {\n",
       "        vertical-align: middle;\n",
       "    }\n",
       "\n",
       "    .dataframe tbody tr th {\n",
       "        vertical-align: top;\n",
       "    }\n",
       "\n",
       "    .dataframe thead th {\n",
       "        text-align: right;\n",
       "    }\n",
       "</style>\n",
       "<table border=\"1\" class=\"dataframe\">\n",
       "  <thead>\n",
       "    <tr style=\"text-align: right;\">\n",
       "      <th></th>\n",
       "      <th>text</th>\n",
       "      <th>label</th>\n",
       "      <th>score</th>\n",
       "    </tr>\n",
       "  </thead>\n",
       "  <tbody>\n",
       "    <tr>\n",
       "      <th>0</th>\n",
       "      <td>.@HillaryClinton is a champion for LGBT equali...</td>\n",
       "      <td>NEGATIVE</td>\n",
       "      <td>0.660723</td>\n",
       "    </tr>\n",
       "    <tr>\n",
       "      <th>1</th>\n",
       "      <td>Our teachers deserve more than just a pat on t...</td>\n",
       "      <td>NEGATIVE</td>\n",
       "      <td>0.989819</td>\n",
       "    </tr>\n",
       "    <tr>\n",
       "      <th>2</th>\n",
       "      <td>\"The lesson of our history, through good times...</td>\n",
       "      <td>POSITIVE</td>\n",
       "      <td>0.999174</td>\n",
       "    </tr>\n",
       "    <tr>\n",
       "      <th>3</th>\n",
       "      <td>How cruel do you have to be to actually root f...</td>\n",
       "      <td>NEGATIVE</td>\n",
       "      <td>0.999402</td>\n",
       "    </tr>\n",
       "    <tr>\n",
       "      <th>4</th>\n",
       "      <td>Trump says, \"I know more about ISIS than the g...</td>\n",
       "      <td>NEGATIVE</td>\n",
       "      <td>0.994164</td>\n",
       "    </tr>\n",
       "    <tr>\n",
       "      <th>5</th>\n",
       "      <td>“I love Hispanics!” —Trump, 52 minutes ago htt...</td>\n",
       "      <td>NEGATIVE</td>\n",
       "      <td>0.955088</td>\n",
       "    </tr>\n",
       "    <tr>\n",
       "      <th>6</th>\n",
       "      <td>.@realDonaldTrump doesn't want you to see what...</td>\n",
       "      <td>NEGATIVE</td>\n",
       "      <td>0.998818</td>\n",
       "    </tr>\n",
       "    <tr>\n",
       "      <th>7</th>\n",
       "      <td>America is a country of diverse beliefs and he...</td>\n",
       "      <td>POSITIVE</td>\n",
       "      <td>0.999649</td>\n",
       "    </tr>\n",
       "    <tr>\n",
       "      <th>8</th>\n",
       "      <td>So with all of the Obama tough talk on Russia ...</td>\n",
       "      <td>POSITIVE</td>\n",
       "      <td>0.940436</td>\n",
       "    </tr>\n",
       "    <tr>\n",
       "      <th>9</th>\n",
       "      <td>The only people who are not interested in bein...</td>\n",
       "      <td>NEGATIVE</td>\n",
       "      <td>0.997979</td>\n",
       "    </tr>\n",
       "  </tbody>\n",
       "</table>\n",
       "</div>"
      ],
      "text/plain": [
       "                                                text     label     score\n",
       "0  .@HillaryClinton is a champion for LGBT equali...  NEGATIVE  0.660723\n",
       "1  Our teachers deserve more than just a pat on t...  NEGATIVE  0.989819\n",
       "2  \"The lesson of our history, through good times...  POSITIVE  0.999174\n",
       "3  How cruel do you have to be to actually root f...  NEGATIVE  0.999402\n",
       "4  Trump says, \"I know more about ISIS than the g...  NEGATIVE  0.994164\n",
       "5  “I love Hispanics!” —Trump, 52 minutes ago htt...  NEGATIVE  0.955088\n",
       "6  .@realDonaldTrump doesn't want you to see what...  NEGATIVE  0.998818\n",
       "7  America is a country of diverse beliefs and he...  POSITIVE  0.999649\n",
       "8  So with all of the Obama tough talk on Russia ...  POSITIVE  0.940436\n",
       "9  The only people who are not interested in bein...  NEGATIVE  0.997979"
      ]
     },
     "execution_count": 18,
     "metadata": {},
     "output_type": "execute_result"
    }
   ],
   "source": [
    "final[['text','label', 'score']].head(10)"
   ]
  },
  {
   "cell_type": "code",
   "execution_count": 19,
   "id": "931a2fad",
   "metadata": {},
   "outputs": [
    {
     "data": {
      "text/plain": [
       "\".@HillaryClinton is a champion for LGBT equality. That's why #ImWithHer. 💁  Text PRIDE to 47246 if you are too! 🌈 https://t.co/8k0SHzrfqi\""
      ]
     },
     "execution_count": 19,
     "metadata": {},
     "output_type": "execute_result"
    }
   ],
   "source": [
    "final.text[0]"
   ]
  },
  {
   "cell_type": "code",
   "execution_count": 20,
   "id": "2d92f7cf",
   "metadata": {},
   "outputs": [
    {
     "data": {
      "text/plain": [
       "'America is a country of diverse beliefs and heritages. That makes us strong, regardless of what Donald thinks.\\nhttps://t.co/Nbyd4zSuyY'"
      ]
     },
     "execution_count": 20,
     "metadata": {},
     "output_type": "execute_result"
    }
   ],
   "source": [
    "final.text[7]"
   ]
  },
  {
   "cell_type": "markdown",
   "id": "1a409e29",
   "metadata": {},
   "source": [
    "return to [overview](../00_overview.ipynb)"
   ]
  }
 ],
 "metadata": {
  "kernelspec": {
   "display_name": "Python 3 (ipykernel)",
   "language": "python",
   "name": "python3"
  },
  "language_info": {
   "codemirror_mode": {
    "name": "ipython",
    "version": 3
   },
   "file_extension": ".py",
   "mimetype": "text/x-python",
   "name": "python",
   "nbconvert_exporter": "python",
   "pygments_lexer": "ipython3",
   "version": "3.9.16"
  }
 },
 "nbformat": 4,
 "nbformat_minor": 5
}
